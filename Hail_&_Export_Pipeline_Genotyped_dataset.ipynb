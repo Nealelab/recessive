{
 "cells": [
  {
   "cell_type": "code",
   "execution_count": 1,
   "metadata": {},
   "outputs": [
    {
     "name": "stderr",
     "output_type": "stream",
     "text": [
      "Running on Apache Spark version 2.2.1\n",
      "SparkUI available at http://10.128.0.2:4040\n",
      "Welcome to\n",
      "     __  __     <>__\n",
      "    / /_/ /__  __/ /\n",
      "   / __  / _ `/ / /\n",
      "  /_/ /_/\\_,_/_/_/   version 0.2.4-a86d9a7bd0f3\n",
      "LOGGING: writing to /home/hail/hail-20181206-1528-0.2.4-a86d9a7bd0f3.log\n"
     ]
    }
   ],
   "source": [
    "import hail as hl\n",
    "hl.init()"
   ]
  },
  {
   "cell_type": "markdown",
   "metadata": {},
   "source": [
    "### Annotating genotyped datasets"
   ]
  },
  {
   "cell_type": "markdown",
   "metadata": {},
   "source": [
    "##### Script: annot_genotype.py\n",
    "\n",
    "cluster submit t1 \n",
    "\n",
    "import hail as hl\n",
    "\n",
    "an_gen = hl.read_matrix_table('gs://phenotype_31063/hail/ukb31063.genotype.mt')\n",
    "an_gen = hl.vep(an_gen, 'gs://hail-common/vep/vep/vep85-loftee-gcloud.json')\n",
    "an_gen.describe()\n",
    "#write to a bucket\n",
    "an_gen.write('gs://rec_project/genotype_annotations.mt', overwrite=True)\n"
   ]
  },
  {
   "cell_type": "markdown",
   "metadata": {},
   "source": [
    "### Use vep output as input to script calculate_rare_scores (provided by Andrea Ganna). Script simplifies vep output and adds variant_qc."
   ]
  },
  {
   "cell_type": "code",
   "execution_count": null,
   "metadata": {},
   "outputs": [],
   "source": [
    "vds = hl.read_matrix_table('gs://rec_project/genotype_annotations.mt')\n",
    "#vds.rows().show()"
   ]
  },
  {
   "cell_type": "code",
   "execution_count": null,
   "metadata": {},
   "outputs": [],
   "source": [
    "import hail as hl\n",
    "import hail.expr.aggregators as agg\n",
    "import hail.methods\n",
    "import pandas as pd\n",
    "from typing import *\n",
    "import random\n",
    "\n",
    "\n",
    "# Note that this is the current as of v81 with some included for backwards compatibility (VEP <= 75)\n",
    "CSQ_CODING_HIGH_IMPACT = [\n",
    "    \"transcript_ablation\",\n",
    "    \"splice_acceptor_variant\",\n",
    "    \"splice_donor_variant\",\n",
    "    \"stop_gained\",\n",
    "    \"frameshift_variant\",\n",
    "    \"stop_lost\"]\n",
    "\n",
    "CSQ_CODING_MEDIUM_IMPACT = [\n",
    "    \"start_lost\",  # new in v81\n",
    "    \"initiator_codon_variant\",  # deprecated\n",
    "    \"transcript_amplification\",\n",
    "    \"inframe_insertion\",\n",
    "    \"inframe_deletion\",\n",
    "    \"missense_variant\",\n",
    "    \"protein_altering_variant\",  # new in v79\n",
    "    \"splice_region_variant\"\n",
    "]\n",
    "\n",
    "CSQ_CODING_LOW_IMPACT = [\n",
    "    \"incomplete_terminal_codon_variant\",\n",
    "    \"start_retained_variant\",  # new in v92\n",
    "    \"stop_retained_variant\",\n",
    "    \"synonymous_variant\",\n",
    "    \"coding_sequence_variant\"]\n",
    "\n",
    "CSQ_NON_CODING = [\n",
    "    \"mature_miRNA_variant\",\n",
    "    \"5_prime_UTR_variant\",\n",
    "    \"3_prime_UTR_variant\",\n",
    "    \"non_coding_transcript_exon_variant\",\n",
    "    \"non_coding_exon_variant\",  # deprecated\n",
    "    \"intron_variant\",\n",
    "    \"NMD_transcript_variant\",\n",
    "    \"non_coding_transcript_variant\",\n",
    "    \"nc_transcript_variant\",  # deprecated\n",
    "    \"upstream_gene_variant\",\n",
    "    \"downstream_gene_variant\",\n",
    "    \"TFBS_ablation\",\n",
    "    \"TFBS_amplification\",\n",
    "    \"TF_binding_site_variant\",\n",
    "    \"regulatory_region_ablation\",\n",
    "    \"regulatory_region_amplification\",\n",
    "    \"feature_elongation\",\n",
    "    \"regulatory_region_variant\",\n",
    "    \"feature_truncation\",\n",
    "    \"intergenic_variant\"\n",
    "]\n",
    "\n",
    "CSQ_ORDER = CSQ_CODING_HIGH_IMPACT + CSQ_CODING_MEDIUM_IMPACT + CSQ_CODING_LOW_IMPACT + CSQ_NON_CODING\n",
    "\n",
    "def filter_vep_to_canonical_transcripts(mt: Union[hl.MatrixTable, hl.Table],\n",
    "                                        vep_root: str = 'vep') -> Union[hl.MatrixTable, hl.Table]:\n",
    "    canonical = mt[vep_root].transcript_consequences.filter(lambda csq: csq.canonical == 1)\n",
    "    vep_data = mt[vep_root].annotate(transcript_consequences=canonical)\n",
    "    return mt.annotate_rows(**{vep_root: vep_data}) if isinstance(mt, hl.MatrixTable) else mt.annotate(**{vep_root: vep_data})\n",
    "\n",
    "def add_most_severe_consequence_to_consequence(tc: hl.expr.StructExpression) -> hl.expr.StructExpression:\n",
    "\n",
    "    \"\"\"\n",
    "    Add most_severe_consequence annotation to transcript consequences\n",
    "    This is for a given transcript, as there are often multiple annotations for a single transcript:\n",
    "    e.g. splice_region_variant&intron_variant -> splice_region_variant\n",
    "    \"\"\"\n",
    "\n",
    "    csqs = hl.literal(CSQ_ORDER)\n",
    "\n",
    "    return tc.annotate(\n",
    "        most_severe_consequence=csqs.find(lambda c: tc.consequence_terms.contains(c))\n",
    "    )\n",
    "\n",
    "def process_consequences(mt: Union[hl.MatrixTable, hl.Table], vep_root: str = 'vep',\n",
    "                         penalize_flags: bool = True) -> Union[hl.MatrixTable, hl.Table]:\n",
    "    \"\"\"\n",
    "    Adds most_severe_consequence (worst consequence for a transcript) into [vep_root].transcript_consequences,\n",
    "    and worst_csq_by_gene, any_lof into [vep_root]\n",
    "    :param MatrixTable mt: Input MT\n",
    "    :param str vep_root: Root for vep annotation (probably vep)\n",
    "    :param bool penalize_flags: Whether to penalize LOFTEE flagged variants, or treat them as equal to HC\n",
    "    :return: MT with better formatted consequences\n",
    "    :rtype: MatrixTable\n",
    "    \"\"\"\n",
    "    csqs = hl.literal(CSQ_ORDER)\n",
    "    csq_dict = hl.literal(dict(zip(CSQ_ORDER, range(len(CSQ_ORDER)))))\n",
    "\n",
    "    def find_worst_transcript_consequence(tcl: hl.expr.ArrayExpression) -> hl.expr.StructExpression:\n",
    "        \"\"\"\n",
    "        Gets worst transcript_consequence from an array of em\n",
    "        \"\"\"\n",
    "        flag_score = 500\n",
    "        no_flag_score = flag_score * (1 + penalize_flags)\n",
    "\n",
    "        def csq_score(tc):\n",
    "            return csq_dict[csqs.find(lambda x: x == tc.most_severe_consequence)]\n",
    "        tcl = tcl.map(lambda tc: tc.annotate(\n",
    "            csq_score=hl.case(missing_false=True)\n",
    "            .when((tc.lof == 'HC') & (tc.lof_flags == ''), csq_score(tc) - no_flag_score)\n",
    "            .when((tc.lof == 'HC') & (tc.lof_flags != ''), csq_score(tc) - flag_score)\n",
    "            .when(tc.lof == 'LC', csq_score(tc) - 10)\n",
    "            .when(tc.polyphen_prediction == 'probably_damaging', csq_score(tc) - 0.5)\n",
    "            .when(tc.polyphen_prediction == 'possibly_damaging', csq_score(tc) - 0.25)\n",
    "            .when(tc.polyphen_prediction == 'benign', csq_score(tc) - 0.1)\n",
    "            .default(csq_score(tc))\n",
    "        ))\n",
    "        return hl.or_missing(hl.len(tcl) > 0, hl.sorted(tcl, lambda x: x.csq_score)[0])\n",
    "\n",
    "    transcript_csqs = mt[vep_root].transcript_consequences.map(add_most_severe_consequence_to_consequence)\n",
    "\n",
    "    gene_dict = transcript_csqs.group_by(lambda tc: tc.gene_symbol)\n",
    "    worst_csq_gene = gene_dict.map_values(find_worst_transcript_consequence).values()\n",
    "    sorted_scores = hl.sorted(worst_csq_gene, key=lambda tc: tc.csq_score)\n",
    "    lowest_score = hl.or_missing(hl.len(sorted_scores) > 0, sorted_scores[0].csq_score)\n",
    "    gene_with_worst_csq = sorted_scores.filter(lambda tc: tc.csq_score == lowest_score).map(lambda tc: tc.gene_symbol)\n",
    "    ensg_with_worst_csq = sorted_scores.filter(lambda tc: tc.csq_score == lowest_score).map(lambda tc: tc.gene_id)\n",
    "\n",
    "    vep_data = mt[vep_root].annotate(transcript_consequences=transcript_csqs,\n",
    "                                     worst_consequence_term=csqs.find(lambda c: transcript_csqs.map(lambda csq: csq.most_severe_consequence).contains(c)),\n",
    "                                     worst_csq_by_gene=worst_csq_gene,\n",
    "                                     any_lof=hl.any(lambda x: x.lof == 'HC', worst_csq_gene),\n",
    "                                     gene_with_most_severe_csq=gene_with_worst_csq,\n",
    "                                     ensg_with_most_severe_csq=ensg_with_worst_csq)\n",
    "\n",
    "    return mt.annotate_rows(**{vep_root: vep_data}) if isinstance(mt, hl.MatrixTable) else mt.annotate(**{vep_root: vep_data})\n",
    "\n",
    "\n",
    "vds = hl.read_matrix_table('gs://rec_project/genotype_annotations.mt')\n",
    "#vds.rows().show()\n",
    "vds = vds.key_rows_by('locus','alleles')\n",
    "vds = hl.variant_qc(vds)\n",
    "vds_kon = filter_vep_to_canonical_transcripts(vds)\n",
    "vds_kon = process_consequences(vds_kon)\n",
    "vds_kon.describe()\n",
    "vds_kon.rows().show()\n",
    "#vds_kon_tb = vds_kon.filter_rows(vds_kon['locus'].contig == 'chr22').rows().select('vep').flatten()\n",
    "#vds_kon_tb.select('locus','alleles','vep.variant_class','vep.worst_consequence_term','vep.any_lof','vep.gene_with_most_severe_csq','vep.ensg_with_most_severe_csq').export('gs://ddd-edu/topmed/chr_22_vep_konrad.tsv.gz')"
   ]
  },
  {
   "cell_type": "code",
   "execution_count": null,
   "metadata": {},
   "outputs": [],
   "source": [
    "# write intermediate file (above script takes ~20 minutes)\n",
    "# vds_kon.write('gs://rec_project/vds_kon.mt', overwrite=True)"
   ]
  },
  {
   "cell_type": "code",
   "execution_count": null,
   "metadata": {},
   "outputs": [],
   "source": [
    "vds_kon.count()"
   ]
  },
  {
   "cell_type": "code",
   "execution_count": 3,
   "metadata": {},
   "outputs": [],
   "source": [
    "vds_kon = hl.read_matrix_table('gs://rec_project/vds_kon.mt')"
   ]
  },
  {
   "cell_type": "code",
   "execution_count": null,
   "metadata": {},
   "outputs": [],
   "source": [
    "vds_kon.describe()"
   ]
  },
  {
   "cell_type": "markdown",
   "metadata": {},
   "source": [
    "### Explode lines that have more than 1 gene (variants that are in more than one gene)."
   ]
  },
  {
   "cell_type": "code",
   "execution_count": 4,
   "metadata": {},
   "outputs": [],
   "source": [
    "exploded = vds_kon.explode_rows(vds_kon.vep.gene_with_most_severe_csq)"
   ]
  },
  {
   "cell_type": "code",
   "execution_count": 5,
   "metadata": {},
   "outputs": [
    {
     "name": "stdout",
     "output_type": "stream",
     "text": [
      "+---------------+------------+---------------+-------------+-------------------+\n",
      "| locus         | alleles    | rsid          | cm_position | vep.assembly_name |\n",
      "+---------------+------------+---------------+-------------+-------------------+\n",
      "| locus<GRCh37> | array<str> | str           |     float64 | str               |\n",
      "+---------------+------------+---------------+-------------+-------------------+\n",
      "| 1:723307      | [\"C\",\"G\"]  | \"rs28659788\"  |    0.00e+00 | \"GRCh37\"          |\n",
      "| 1:727841      | [\"G\",\"A\"]  | \"rs116587930\" |    0.00e+00 | \"GRCh37\"          |\n",
      "| 1:752721      | [\"A\",\"G\"]  | \"rs3131972\"   |    0.00e+00 | \"GRCh37\"          |\n",
      "| 1:754105      | [\"C\",\"T\"]  | \"rs12184325\"  |    0.00e+00 | \"GRCh37\"          |\n",
      "| 1:756604      | [\"A\",\"G\"]  | \"rs3131962\"   |    0.00e+00 | \"GRCh37\"          |\n",
      "| 1:759036      | [\"G\",\"A\"]  | \"rs114525117\" |    0.00e+00 | \"GRCh37\"          |\n",
      "| 1:761147      | [\"T\",\"C\"]  | \"rs3115850\"   |    0.00e+00 | \"GRCh37\"          |\n",
      "| 1:767096      | [\"A\",\"G\"]  | \"rs115991721\" |    0.00e+00 | \"GRCh37\"          |\n",
      "| 1:768448      | [\"G\",\"A\"]  | \"rs12562034\"  |    0.00e+00 | \"GRCh37\"          |\n",
      "| 1:772927      | [\"C\",\"T\"]  | \"rs116390263\" |    0.00e+00 | \"GRCh37\"          |\n",
      "+---------------+------------+---------------+-------------+-------------------+\n",
      "\n",
      "+-------------------+---------------+\n",
      "| vep.allele_string | vep.ancestral |\n",
      "+-------------------+---------------+\n",
      "| str               | str           |\n",
      "+-------------------+---------------+\n",
      "| \"C/G\"             | NA            |\n",
      "| \"G/A\"             | NA            |\n",
      "| \"A/G\"             | NA            |\n",
      "| \"C/T\"             | NA            |\n",
      "| \"A/G\"             | NA            |\n",
      "| \"G/A\"             | NA            |\n",
      "| \"T/C\"             | NA            |\n",
      "| \"A/G\"             | NA            |\n",
      "| \"G/A\"             | NA            |\n",
      "| \"C/T\"             | NA            |\n",
      "+-------------------+---------------+\n",
      "\n",
      "+----------------------------------------------------------------------------------------+\n",
      "| vep.colocated_variants                                                                 |\n",
      "+----------------------------------------------------------------------------------------+\n",
      "| array<struct{aa_allele: str, aa_maf: float64, afr_allele: str, afr_maf: float64, al... |\n",
      "+----------------------------------------------------------------------------------------+\n",
      "| [(\"G\",4.40e-02,NA,NA,\"C/G\",\"G\",2.57e-02,NA,723307,\"G\",2.74e-02,NA,NA,\"G\",3.77e-02,N... |\n",
      "| [(\"A\",6.10e-03,NA,NA,\"G/A\",\"A\",1.50e-03,NA,727841,\"A\",1.01e-02,NA,NA,\"A\",0.00e+00,N... |\n",
      "| [(\"G\",7.78e-01,NA,NA,\"A/G\",\"G\",2.91e-01,NA,752721,\"G\",7.36e-01,NA,NA,\"G\",7.66e-01,N... |\n",
      "| [(\"T\",4.09e-02,NA,NA,\"C/T\",\"T\",2.57e-02,NA,754105,\"T\",2.88e-02,NA,NA,\"T\",0.00e+00,N... |\n",
      "| [(\"G\",8.32e-01,NA,NA,\"A/G\",\"G\",4.50e-01,NA,756604,\"G\",8.24e-01,NA,NA,\"G\",8.83e-01,N... |\n",
      "| [(\"A\",4.29e-02,NA,NA,\"G/A\",\"A\",2.65e-02,NA,759036,\"A\",2.88e-02,NA,NA,\"A\",0.00e+00,N... |\n",
      "| [(\"C\",8.08e-01,NA,NA,\"T/C\",\"C\",4.45e-01,NA,761147,\"C\",8.07e-01,NA,NA,\"C\",8.84e-01,N... |\n",
      "| [(\"G\",0.00e+00,NA,NA,\"A/G\",\"G\",1.28e-01,NA,767096,\"G\",1.01e-02,NA,NA,\"G\",0.00e+00,N... |\n",
      "| [(\"A\",3.01e-01,NA,NA,\"G/A\",\"A\",8.55e-02,NA,768448,\"A\",8.93e-02,NA,NA,\"A\",3.96e-01,N... |\n",
      "| [(NA,NA,NA,NA,\"C/T\",NA,NA,NA,772927,NA,NA,NA,NA,NA,NA,NA,NA,NA,NA,NA,NA,NA,NA,NA,NA... |\n",
      "+----------------------------------------------------------------------------------------+\n",
      "\n",
      "+-------------+---------+----------------+--------------------------------+\n",
      "| vep.context | vep.end | vep.id         | vep.input                      |\n",
      "+-------------+---------+----------------+--------------------------------+\n",
      "| str         |   int32 | str            | str                            |\n",
      "+-------------+---------+----------------+--------------------------------+\n",
      "| NA          |  723307 | \"1_723307_C/G\" | \"1\\t723307\\t.\\tC\\tG\\t.\\t.\\tGT\" |\n",
      "| NA          |  727841 | \"1_727841_G/A\" | \"1\\t727841\\t.\\tG\\tA\\t.\\t.\\tGT\" |\n",
      "| NA          |  752721 | \"1_752721_A/G\" | \"1\\t752721\\t.\\tA\\tG\\t.\\t.\\tGT\" |\n",
      "| NA          |  754105 | \"1_754105_C/T\" | \"1\\t754105\\t.\\tC\\tT\\t.\\t.\\tGT\" |\n",
      "| NA          |  756604 | \"1_756604_A/G\" | \"1\\t756604\\t.\\tA\\tG\\t.\\t.\\tGT\" |\n",
      "| NA          |  759036 | \"1_759036_G/A\" | \"1\\t759036\\t.\\tG\\tA\\t.\\t.\\tGT\" |\n",
      "| NA          |  761147 | \"1_761147_T/C\" | \"1\\t761147\\t.\\tT\\tC\\t.\\t.\\tGT\" |\n",
      "| NA          |  767096 | \"1_767096_A/G\" | \"1\\t767096\\t.\\tA\\tG\\t.\\t.\\tGT\" |\n",
      "| NA          |  768448 | \"1_768448_G/A\" | \"1\\t768448\\t.\\tG\\tA\\t.\\t.\\tGT\" |\n",
      "| NA          |  772927 | \"1_772927_C/T\" | \"1\\t772927\\t.\\tC\\tT\\t.\\t.\\tGT\" |\n",
      "+-------------+---------+----------------+--------------------------------+\n",
      "\n",
      "+----------------------------------------------------------------------------------------+\n",
      "| vep.intergenic_consequences                                                            |\n",
      "+----------------------------------------------------------------------------------------+\n",
      "| array<struct{allele_num: int32, consequence_terms: array<str>, impact: str, minimis... |\n",
      "+----------------------------------------------------------------------------------------+\n",
      "| NA                                                                                     |\n",
      "| NA                                                                                     |\n",
      "| NA                                                                                     |\n",
      "| NA                                                                                     |\n",
      "| NA                                                                                     |\n",
      "| NA                                                                                     |\n",
      "| NA                                                                                     |\n",
      "| NA                                                                                     |\n",
      "| NA                                                                                     |\n",
      "| NA                                                                                     |\n",
      "+----------------------------------------------------------------------------------------+\n",
      "\n",
      "+-----------------------------+\n",
      "| vep.most_severe_consequence |\n",
      "+-----------------------------+\n",
      "| str                         |\n",
      "+-----------------------------+\n",
      "| \"intron_variant\"            |\n",
      "| \"intron_variant\"            |\n",
      "| \"intron_variant\"            |\n",
      "| \"splice_region_variant\"     |\n",
      "| \"upstream_gene_variant\"     |\n",
      "| \"upstream_gene_variant\"     |\n",
      "| \"upstream_gene_variant\"     |\n",
      "| \"intron_variant\"            |\n",
      "| \"intron_variant\"            |\n",
      "| \"intron_variant\"            |\n",
      "+-----------------------------+\n",
      "\n",
      "+----------------------------------------------------------------------------------------+\n",
      "| vep.motif_feature_consequences                                                         |\n",
      "+----------------------------------------------------------------------------------------+\n",
      "| array<struct{allele_num: int32, consequence_terms: array<str>, high_inf_pos: str, i... |\n",
      "+----------------------------------------------------------------------------------------+\n",
      "| NA                                                                                     |\n",
      "| NA                                                                                     |\n",
      "| NA                                                                                     |\n",
      "| NA                                                                                     |\n",
      "| NA                                                                                     |\n",
      "| NA                                                                                     |\n",
      "| NA                                                                                     |\n",
      "| NA                                                                                     |\n",
      "| NA                                                                                     |\n",
      "| NA                                                                                     |\n",
      "+----------------------------------------------------------------------------------------+\n",
      "\n",
      "+----------------------------------------------------------------------------------------+\n",
      "| vep.regulatory_feature_consequences                                                    |\n",
      "+----------------------------------------------------------------------------------------+\n",
      "| array<struct{allele_num: int32, biotype: str, consequence_terms: array<str>, impact... |\n",
      "+----------------------------------------------------------------------------------------+\n",
      "| NA                                                                                     |\n",
      "| NA                                                                                     |\n",
      "| [(1,\"promoter\",[\"regulatory_region_variant\"],\"MODIFIER\",1,\"ENSR00001576125\",\"G\")]      |\n",
      "| NA                                                                                     |\n",
      "| [(1,\"CTCF_binding_site\",[\"regulatory_region_variant\"],\"MODIFIER\",1,\"ENSR00001576126... |\n",
      "| NA                                                                                     |\n",
      "| [(1,\"promoter\",[\"regulatory_region_variant\"],\"MODIFIER\",1,\"ENSR00000528836\",\"C\")]      |\n",
      "| NA                                                                                     |\n",
      "| NA                                                                                     |\n",
      "| NA                                                                                     |\n",
      "+----------------------------------------------------------------------------------------+\n",
      "\n",
      "+---------------------+-----------+------------+\n",
      "| vep.seq_region_name | vep.start | vep.strand |\n",
      "+---------------------+-----------+------------+\n",
      "| str                 |     int32 |      int32 |\n",
      "+---------------------+-----------+------------+\n",
      "| \"1\"                 |    723307 |          1 |\n",
      "| \"1\"                 |    727841 |          1 |\n",
      "| \"1\"                 |    752721 |          1 |\n",
      "| \"1\"                 |    754105 |          1 |\n",
      "| \"1\"                 |    756604 |          1 |\n",
      "| \"1\"                 |    759036 |          1 |\n",
      "| \"1\"                 |    761147 |          1 |\n",
      "| \"1\"                 |    767096 |          1 |\n",
      "| \"1\"                 |    768448 |          1 |\n",
      "| \"1\"                 |    772927 |          1 |\n",
      "+---------------------+-----------+------------+\n",
      "\n",
      "+----------------------------------------------------------------------------------------+\n",
      "| vep.transcript_consequences                                                            |\n",
      "+----------------------------------------------------------------------------------------+\n",
      "| array<struct{allele_num: int32, amino_acids: str, biotype: str, canonical: int32, c... |\n",
      "+----------------------------------------------------------------------------------------+\n",
      "| [(1,NA,\"lincRNA\",1,NA,NA,NA,NA,NA,NA,[\"downstream_gene_variant\"],255,NA,NA,\"ENSG000... |\n",
      "| [(1,NA,\"lincRNA\",1,NA,NA,NA,NA,NA,NA,[\"downstream_gene_variant\"],4789,NA,NA,\"ENSG00... |\n",
      "| [(1,NA,\"lincRNA\",1,NA,NA,NA,NA,NA,NA,[\"upstream_gene_variant\"],30,NA,NA,\"ENSG000001... |\n",
      "| [(1,NA,\"lincRNA\",1,NA,835,835,NA,NA,NA,[\"splice_region_variant\",\"non_coding_transcr... |\n",
      "| [(1,NA,\"lincRNA\",1,NA,NA,NA,NA,NA,NA,[\"downstream_gene_variant\"],1390,NA,NA,\"ENSG00... |\n",
      "| [(1,NA,\"lincRNA\",1,NA,NA,NA,NA,NA,NA,[\"downstream_gene_variant\"],3822,NA,NA,\"ENSG00... |\n",
      "| [(1,NA,\"lincRNA\",1,NA,NA,NA,NA,NA,NA,[\"upstream_gene_variant\"],1841,NA,NA,\"ENSG0000... |\n",
      "| [(1,NA,\"lincRNA\",1,NA,NA,NA,NA,NA,NA,[\"intron_variant\",\"non_coding_transcript_varia... |\n",
      "| [(1,NA,\"lincRNA\",1,NA,NA,NA,NA,NA,NA,[\"intron_variant\",\"non_coding_transcript_varia... |\n",
      "| [(1,NA,\"lincRNA\",1,NA,NA,NA,NA,NA,NA,[\"intron_variant\",\"non_coding_transcript_varia... |\n",
      "+----------------------------------------------------------------------------------------+\n",
      "\n",
      "+-------------------+----------------------------+\n",
      "| vep.variant_class | vep.worst_consequence_term |\n",
      "+-------------------+----------------------------+\n",
      "| str               | str                        |\n",
      "+-------------------+----------------------------+\n",
      "| \"SNV\"             | \"downstream_gene_variant\"  |\n",
      "| \"SNV\"             | \"downstream_gene_variant\"  |\n",
      "| \"SNV\"             | \"intron_variant\"           |\n",
      "| \"SNV\"             | \"splice_region_variant\"    |\n",
      "| \"SNV\"             | \"upstream_gene_variant\"    |\n",
      "| \"SNV\"             | \"upstream_gene_variant\"    |\n",
      "| \"SNV\"             | \"upstream_gene_variant\"    |\n",
      "| \"SNV\"             | \"intron_variant\"           |\n",
      "| \"SNV\"             | \"intron_variant\"           |\n",
      "| \"SNV\"             | \"intron_variant\"           |\n",
      "+-------------------+----------------------------+\n",
      "\n",
      "+----------------------------------------------------------------------------------------+\n",
      "| vep.worst_csq_by_gene                                                                  |\n",
      "+----------------------------------------------------------------------------------------+\n",
      "| array<struct{allele_num: int32, amino_acids: str, biotype: str, canonical: int32, c... |\n",
      "+----------------------------------------------------------------------------------------+\n",
      "| [(1,NA,\"lincRNA\",1,NA,NA,NA,NA,NA,NA,[\"downstream_gene_variant\"],255,NA,NA,\"ENSG000... |\n",
      "| [(1,NA,\"lincRNA\",1,NA,NA,NA,NA,NA,NA,[\"downstream_gene_variant\"],4789,NA,NA,\"ENSG00... |\n",
      "| [(1,NA,\"lincRNA\",1,NA,NA,NA,NA,NA,NA,[\"upstream_gene_variant\"],30,NA,NA,\"ENSG000001... |\n",
      "| [(1,NA,\"lincRNA\",1,NA,835,835,NA,NA,NA,[\"splice_region_variant\",\"non_coding_transcr... |\n",
      "| [(1,NA,\"lincRNA\",1,NA,NA,NA,NA,NA,NA,[\"downstream_gene_variant\"],1390,NA,NA,\"ENSG00... |\n",
      "| [(1,NA,\"lincRNA\",1,NA,NA,NA,NA,NA,NA,[\"downstream_gene_variant\"],3822,NA,NA,\"ENSG00... |\n",
      "| [(1,NA,\"lincRNA\",1,NA,NA,NA,NA,NA,NA,[\"downstream_gene_variant\"],439,NA,NA,\"ENSG000... |\n",
      "| [(1,NA,\"lincRNA\",1,NA,NA,NA,NA,NA,NA,[\"upstream_gene_variant\"],4194,NA,NA,\"ENSG0000... |\n",
      "| [(1,NA,\"lincRNA\",1,NA,NA,NA,NA,NA,NA,[\"intron_variant\",\"non_coding_transcript_varia... |\n",
      "| [(1,NA,\"lincRNA\",1,NA,NA,NA,NA,NA,NA,[\"intron_variant\",\"non_coding_transcript_varia... |\n",
      "+----------------------------------------------------------------------------------------+\n",
      "\n",
      "+-------------+-------------------------------+-------------------------------+\n",
      "| vep.any_lof | vep.gene_with_most_severe_csq | vep.ensg_with_most_severe_csq |\n",
      "+-------------+-------------------------------+-------------------------------+\n",
      "| bool        | str                           | array<str>                    |\n",
      "+-------------+-------------------------------+-------------------------------+\n",
      "| NA          | \"RP11-206L10.9\"               | [\"ENSG00000237491\"]           |\n",
      "| NA          | \"RP11-206L10.9\"               | [\"ENSG00000237491\"]           |\n",
      "| NA          | \"RP11-206L10.10\"              | [\"ENSG00000240453\"]           |\n",
      "| NA          | \"FAM87B\"                      | [\"ENSG00000177757\"]           |\n",
      "| NA          | \"RP11-206L10.10\"              | [\"ENSG00000240453\"]           |\n",
      "| NA          | \"LINC01128\"                   | [\"ENSG00000228794\"]           |\n",
      "| NA          | \"LINC01128\"                   | [\"ENSG00000228794\"]           |\n",
      "| NA          | \"LINC01128\"                   | [\"ENSG00000228794\"]           |\n",
      "| NA          | \"LINC01128\"                   | [\"ENSG00000228794\"]           |\n",
      "| NA          | \"LINC01128\"                   | [\"ENSG00000228794\"]           |\n",
      "+-------------+-------------------------------+-------------------------------+\n",
      "\n",
      "+-----------------+---------------------+---------------+-----------------------------+\n",
      "| variant_qc.AC   | variant_qc.AF       | variant_qc.AN | variant_qc.homozygote_count |\n",
      "+-----------------+---------------------+---------------+-----------------------------+\n",
      "| array<int32>    | array<float64>      |         int32 | array<int32>                |\n",
      "+-----------------+---------------------+---------------+-----------------------------+\n",
      "| [94963,3635]    | [9.63e-01,3.69e-02] |         98598 | [45664,0]                   |\n",
      "| [834216,44790]  | [9.49e-01,5.10e-02] |        879006 | [394713,0]                  |\n",
      "| [165989,805133] | [1.71e-01,8.29e-01] |        971122 | [13062,332634]              |\n",
      "| [938856,36518]  | [9.63e-01,3.74e-02] |        975374 | [451172,3]                  |\n",
      "| [136384,838116] | [1.40e-01,8.60e-01] |        974500 | [11108,361974]              |\n",
      "| [917627,34421]  | [9.64e-01,3.62e-02] |        952048 | [441603,0]                  |\n",
      "| [139360,793048] | [1.49e-01,8.51e-01] |        932408 | [10706,337550]              |\n",
      "| [971729,2353]   | [9.98e-01,2.42e-03] |        974082 | [484729,41]                 |\n",
      "| [866212,108264] | [8.89e-01,1.11e-01] |        974476 | [385629,6655]               |\n",
      "| [945258,29412]  | [9.70e-01,3.02e-02] |        974670 | [457924,1]                  |\n",
      "+-----------------+---------------------+---------------+-----------------------------+\n",
      "\n",
      "+---------------------+-------------------------+----------------------+\n",
      "| variant_qc.n_called | variant_qc.n_not_called | variant_qc.call_rate |\n",
      "+---------------------+-------------------------+----------------------+\n",
      "|               int64 |                   int64 |              float32 |\n",
      "+---------------------+-------------------------+----------------------+\n",
      "|               49299 |                  438996 |             1.01e-01 |\n",
      "|              439503 |                   48792 |             9.00e-01 |\n",
      "|              485561 |                    2734 |             9.94e-01 |\n",
      "|              487687 |                     608 |             9.99e-01 |\n",
      "|              487250 |                    1045 |             9.98e-01 |\n",
      "|              476024 |                   12271 |             9.75e-01 |\n",
      "|              466204 |                   22091 |             9.55e-01 |\n",
      "|              487041 |                    1254 |             9.97e-01 |\n",
      "|              487238 |                    1057 |             9.98e-01 |\n",
      "|              487335 |                     960 |             9.98e-01 |\n",
      "+---------------------+-------------------------+----------------------+\n",
      "\n",
      "+------------------+----------------------+-------------------------+\n",
      "| variant_qc.n_het | variant_qc.n_non_ref | variant_qc.het_freq_hwe |\n",
      "+------------------+----------------------+-------------------------+\n",
      "|            int64 |                int64 |                 float64 |\n",
      "+------------------+----------------------+-------------------------+\n",
      "|             3635 |                 3635 |                7.10e-02 |\n",
      "|            44790 |                44790 |                9.67e-02 |\n",
      "|           139865 |               472499 |                2.83e-01 |\n",
      "|            36512 |                36515 |                7.21e-02 |\n",
      "|           114168 |               476142 |                2.41e-01 |\n",
      "|            34421 |                34421 |                6.97e-02 |\n",
      "|           117948 |               455498 |                2.54e-01 |\n",
      "|             2271 |                 2312 |                4.82e-03 |\n",
      "|            94954 |               101609 |                1.98e-01 |\n",
      "|            29410 |                29411 |                5.85e-02 |\n",
      "+------------------+----------------------+-------------------------+\n",
      "\n",
      "+------------------------+\n",
      "| variant_qc.p_value_hwe |\n",
      "+------------------------+\n",
      "|                float64 |\n",
      "+------------------------+\n",
      "|               7.17e-31 |\n",
      "|               0.00e+00 |\n",
      "|               1.69e-30 |\n",
      "|              3.40e-301 |\n",
      "|               9.63e-75 |\n",
      "|              4.17e-281 |\n",
      "|               8.09e-04 |\n",
      "|               1.14e-33 |\n",
      "|               4.25e-20 |\n",
      "|              1.45e-196 |\n",
      "+------------------------+\n",
      "showing top 10 rows\n",
      "\n"
     ]
    }
   ],
   "source": [
    "exploded.rows().show(n=10)"
   ]
  },
  {
   "cell_type": "markdown",
   "metadata": {},
   "source": [
    "### Filter genotyped matrix (vds_kon) based on Counsyl recessive gene list. "
   ]
  },
  {
   "cell_type": "code",
   "execution_count": 6,
   "metadata": {},
   "outputs": [],
   "source": [
    "with hl.hadoop_open('gs://rec_project/counsyl_recessive_gene_list.txt', 'r') as x:\n",
    "    counsyl_genes = [line.strip() for line in x]"
   ]
  },
  {
   "cell_type": "markdown",
   "metadata": {},
   "source": [
    "#### Create new global field for the set of genes"
   ]
  },
  {
   "cell_type": "code",
   "execution_count": 7,
   "metadata": {},
   "outputs": [],
   "source": [
    "mt = exploded.annotate_globals(counsyl_genes=hl.set(counsyl_genes))"
   ]
  },
  {
   "cell_type": "markdown",
   "metadata": {},
   "source": [
    "#### Remove rows that do not contain genes in newly created gene field"
   ]
  },
  {
   "cell_type": "code",
   "execution_count": null,
   "metadata": {},
   "outputs": [],
   "source": [
    "mt.describe()"
   ]
  },
  {
   "cell_type": "code",
   "execution_count": 8,
   "metadata": {},
   "outputs": [],
   "source": [
    "mt_no_genes_filt = mt.filter_rows(mt.counsyl_genes.contains(mt.vep.gene_with_most_severe_csq))"
   ]
  },
  {
   "cell_type": "code",
   "execution_count": 9,
   "metadata": {},
   "outputs": [
    {
     "data": {
      "text/plain": [
       "(7877, 488295)"
      ]
     },
     "execution_count": 9,
     "metadata": {},
     "output_type": "execute_result"
    }
   ],
   "source": [
    "mt_no_genes_filt.count()"
   ]
  },
  {
   "cell_type": "code",
   "execution_count": null,
   "metadata": {},
   "outputs": [],
   "source": [
    "mt_no_genes_filt.rows().show()\n",
    "\n"
   ]
  },
  {
   "cell_type": "markdown",
   "metadata": {},
   "source": [
    "### Filter based on frequency: keep variants with frequency < 5% and > 95%"
   ]
  },
  {
   "cell_type": "code",
   "execution_count": 10,
   "metadata": {},
   "outputs": [],
   "source": [
    "mt_freq_filter = mt_no_genes_filt.filter_rows((mt_no_genes_filt.variant_qc.AF[1] <= 0.05) | (mt_no_genes_filt.variant_qc.AF[1] >= 0.95), keep=True) "
   ]
  },
  {
   "cell_type": "code",
   "execution_count": 11,
   "metadata": {},
   "outputs": [
    {
     "data": {
      "text/plain": [
       "(5616, 488295)"
      ]
     },
     "execution_count": 11,
     "metadata": {},
     "output_type": "execute_result"
    }
   ],
   "source": [
    "mt_freq_filter.count()"
   ]
  },
  {
   "cell_type": "markdown",
   "metadata": {},
   "source": [
    "### Filter based on vep.most_severe_consequence"
   ]
  },
  {
   "cell_type": "code",
   "execution_count": 12,
   "metadata": {},
   "outputs": [],
   "source": [
    "conseq_filter = mt_freq_filter.filter_rows((mt_freq_filter.vep.most_severe_consequence == 'transcript_ablation') | (mt_freq_filter.vep.most_severe_consequence == 'splice_acceptor_variant') | (mt_freq_filter.vep.most_severe_consequence == 'splice_donor_variant') | (mt_freq_filter.vep.most_severe_consequence == 'stop_gained') | (mt_freq_filter.vep.most_severe_consequence == 'frameshift_variant') | (mt_freq_filter.vep.most_severe_consequence == 'start_lost') | (mt_freq_filter.vep.most_severe_consequence == 'initiator_codon_variant') | (mt_freq_filter.vep.most_severe_consequence == 'transcript_amplification') | (mt_freq_filter.vep.most_severe_consequence == 'inframe_insertion') | (mt_freq_filter.vep.most_severe_consequence == 'transcript_deletion') | (mt_freq_filter.vep.most_severe_consequence == 'missense_variant') | (mt_freq_filter.vep.most_severe_consequence == 'protein_altering_variant') | (mt_freq_filter.vep.most_severe_consequence == 'splice_region_variant'), keep=True)"
   ]
  },
  {
   "cell_type": "code",
   "execution_count": 13,
   "metadata": {},
   "outputs": [
    {
     "data": {
      "text/plain": [
       "(3850, 488295)"
      ]
     },
     "execution_count": 13,
     "metadata": {},
     "output_type": "execute_result"
    }
   ],
   "source": [
    "conseq_filter.count()"
   ]
  },
  {
   "cell_type": "code",
   "execution_count": 14,
   "metadata": {},
   "outputs": [
    {
     "name": "stderr",
     "output_type": "stream",
     "text": [
      "2018-12-06 16:09:15 Hail: INFO: wrote matrix table with 3850 rows and 488295 columns in 749 partitions to gs://rec_project/filt_genotype_data.mt\n"
     ]
    }
   ],
   "source": [
    "conseq_filter.write('gs://rec_project/filt_genotype_data.mt', overwrite=True)"
   ]
  },
  {
   "cell_type": "code",
   "execution_count": 15,
   "metadata": {},
   "outputs": [],
   "source": [
    "conseq_filter = hl.read_matrix_table('gs://rec_project/filt_genotype_data.mt')"
   ]
  },
  {
   "cell_type": "markdown",
   "metadata": {},
   "source": [
    "### Filter down to EUR individuals"
   ]
  },
  {
   "cell_type": "code",
   "execution_count": null,
   "metadata": {},
   "outputs": [],
   "source": [
    "keep_table = hl.import_table('gs://rec_project/ukb31063.gwas_samples.both_sexes.txt', \n",
    "                             no_header=True, \n",
    "                             min_partitions=50)\n",
    "keep_table = keep_table.rename({'f0': 'Sample'}).key_by('Sample')\n",
    "\n",
    "mt_subset = conseq_filter.filter_cols(hl.is_defined(keep_table[conseq_filter.s]))\n",
    "print (mt_subset.count())"
   ]
  },
  {
   "cell_type": "markdown",
   "metadata": {},
   "source": [
    "### Re-run variant QC"
   ]
  },
  {
   "cell_type": "code",
   "execution_count": null,
   "metadata": {},
   "outputs": [],
   "source": [
    "var_qc = hl.variant_qc(mt_subset.repartition(256)).persist()"
   ]
  },
  {
   "cell_type": "markdown",
   "metadata": {},
   "source": [
    "### Filter on allele count (AC)"
   ]
  },
  {
   "cell_type": "code",
   "execution_count": null,
   "metadata": {},
   "outputs": [],
   "source": [
    "mt_ac = var_qc.filter_rows((var_qc.variant_qc.AC[0] > 0) & (var_qc.variant_qc.AC[1] > 0), keep=True)\n",
    "print (mt_ac.count_rows())"
   ]
  },
  {
   "cell_type": "markdown",
   "metadata": {},
   "source": [
    "### Select desired row and column fields before exporting annotations, export"
   ]
  },
  {
   "cell_type": "code",
   "execution_count": null,
   "metadata": {},
   "outputs": [],
   "source": [
    "genotype_mt_filtered = mt_ac.select_rows(mt_ac.vep.worst_consequence_term, mt_ac.vep.gene_with_most_severe_csq, mt_ac.variant_qc.AC, mt_ac.variant_qc.AF, mt_ac.vep.any_lof, mt_ac.vep.ensg_with_most_severe_csq)\n",
    "genotype_mt_filtered = genotype_mt_filtered.drop(genotype_mt_filtered.fam_id, genotype_mt_filtered.pat_id, genotype_mt_filtered.mat_id, genotype_mt_filtered.is_female, genotype_mt_filtered.is_case)\n",
    "# print (genotype_mt_filtered.rows().show())\n",
    "rows_table = genotype_mt_filtered.rows()\n",
    "rows_table = rows_table.drop(rows_table.counsyl_genes)\n",
    "# print (rows_table.count())\n",
    "rows_table.export('gs://rec_project/annotations_2.tsv.bgz')"
   ]
  },
  {
   "cell_type": "code",
   "execution_count": null,
   "metadata": {},
   "outputs": [],
   "source": [
    "def patched_set_field(self, key, value):\n",
    "    self._fields[key] = value\n",
    "    self._fields_inverse[value] = key\n",
    "    self.__dict__[key] = value\n",
    "hl.Table._set_field = patched_set_field"
   ]
  },
  {
   "cell_type": "markdown",
   "metadata": {},
   "source": [
    "### Change GT notation to single digit, select desired entries & rows, export"
   ]
  },
  {
   "cell_type": "code",
   "execution_count": null,
   "metadata": {},
   "outputs": [],
   "source": [
    "genotype_mt_filtered = genotype_mt_filtered.annotate_entries(GTN = genotype_mt_filtered.GT.n_alt_alleles())\n",
    "genotype_mt_filtered.select_entries('GTN').select_rows().select_cols().make_table().export('gs://rec_project/GT_table_2.tsv.bgz')"
   ]
  }
 ],
 "metadata": {
  "kernelspec": {
   "display_name": "Hail",
   "language": "python",
   "name": "hail"
  },
  "language_info": {
   "codemirror_mode": {
    "name": "ipython",
    "version": 3
   },
   "file_extension": ".py",
   "mimetype": "text/x-python",
   "name": "python",
   "nbconvert_exporter": "python",
   "pygments_lexer": "ipython3",
   "version": "3.6.4"
  }
 },
 "nbformat": 4,
 "nbformat_minor": 2
}